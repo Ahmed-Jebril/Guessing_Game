{
  "nbformat": 4,
  "nbformat_minor": 0,
  "metadata": {
    "colab": {
      "provenance": []
    },
    "kernelspec": {
      "name": "python3",
      "display_name": "Python 3"
    },
    "language_info": {
      "name": "python"
    }
  },
  "cells": [
    {
      "cell_type": "markdown",
      "source": [
        "# Guessing Game Project Description"
      ],
      "metadata": {
        "id": "1NMnTuFU4XF3"
      }
    },
    {
      "cell_type": "markdown",
      "source": [
        "* **`First: You ask the user to set the game level:`**\n",
        "  * *(1) Easy*: \n",
        "    * Limits : [1 - 10]  \n",
        "    * No. of trials : 3\n",
        "  * *(2) Intermediate*: \n",
        "    * Limits : [1 - 100] \n",
        "    * No. of trials : 7\n",
        "  * *(3) Hard* :  \n",
        "    * Limits : [1 - 1000] \n",
        "    * No. of trials : 15\n",
        "\n",
        "* **`Second: set the game settings according to the game level:`**\n",
        "  * set the `guess` to a number within the limits using `random` module \n",
        "  * set the number of trials: `n_trials` \n",
        "\n",
        "* **`Finally: Play the game:`**\n",
        "  * Ask the user to guess the number:\n",
        "    * If he guessed it successfully : `print('Congratulations, you achieved it in {user_trials} trial') `\n",
        "    * if he failed:\n",
        "      * user_trials < n_trials: till him (Increase) or (Decrease)\n",
        "      * user_trials = n_trials: `print('You Lose!')`"
      ],
      "metadata": {
        "id": "7uon2S-n4XF3"
      }
    },
    {
      "cell_type": "markdown",
      "source": [
        "## Project Description"
      ],
      "metadata": {
        "id": "PhpgbWHJhJOW"
      }
    },
    {
      "cell_type": "markdown",
      "source": [
        "* **`First: You ask the user to set the game level:`**\n",
        "  * *(1) Easy*: \n",
        "    * Limits : [1 - 10]  \n",
        "    * No. of trials : 3\n",
        "  * *(2) Intermediate*: \n",
        "    * Limits : [1 - 100] \n",
        "    * No. of trials : 7\n",
        "  * *(3) Hard* :  \n",
        "    * Limits : [1 - 1000] \n",
        "    * No. of trials : 15\n",
        "\n",
        "* **`Second: start the game according to the game level:`**\n",
        "  * set the `guess` to a number within the limits using `random` module \n",
        "  * set the number of trials: `n_trials` \n",
        "\n",
        "* **`Finally: start the game:`**\n",
        "  * Ask the user to guess the number:\n",
        "    * If he guessed it successfully : `print('Congratulations, you achieved it in {user_trials} trial') `\n",
        "    * if he failed:\n",
        "      * user_trials < n_trials: give him another trial within\n",
        "      * user_trials = n_trials: `print('You Lose!')`"
      ],
      "metadata": {
        "id": "9XJyp9xehPBl"
      }
    },
    {
      "cell_type": "code",
      "source": [
        "from random import randint\n",
        "\n",
        "lvl = input('Please choose the game level: Easy, Intermediate, or Hard ')\n",
        "if lvl == 'Easy':\n",
        "  rn = 3\n",
        "  trials = 3\n",
        "elif lvl == 'Intermediate':\n",
        "  rn = randint(1,100)\n",
        "  trials = 7\n",
        "elif lvl == 'Hard':\n",
        "  rn = randint(1,100)\n",
        "  trials = 15\n",
        "else:\n",
        "  print('please restart the game and choose one of the game levels')\n",
        "\n",
        "for i in range(trials):\n",
        "  guss = int(input('Please enter your guss number: '))\n",
        "  if guss == rn:\n",
        "    print(f'Congratulations, you achieved it in {i+1} trials')\n",
        "    break\n",
        "  else:\n",
        "    print('You Lose!')"
      ],
      "metadata": {
        "id": "we7UkC6AhFwy",
        "colab": {
          "base_uri": "https://localhost:8080/"
        },
        "outputId": "e0bfcf13-1cc2-4f34-b957-e865c9f8a5cd"
      },
      "execution_count": null,
      "outputs": [
        {
          "output_type": "stream",
          "name": "stdout",
          "text": [
            "Please choose the game level: Easy, Intermediate, or Hard Easy\n",
            "Please enter your guss number: 5\n",
            "You Lose!\n",
            "Please enter your guss number: 7\n",
            "You Lose!\n",
            "Please enter your guss number: 3\n",
            "Congratulations, you achieved it in 3 trials\n"
          ]
        }
      ]
    },
    {
      "cell_type": "markdown",
      "source": [
        "# Template of Solution"
      ],
      "metadata": {
        "id": "m2nflmTioFy_"
      }
    },
    {
      "cell_type": "markdown",
      "source": [
        "## Show the game levels"
      ],
      "metadata": {
        "id": "GsE-z7Son-xm"
      }
    },
    {
      "cell_type": "code",
      "source": [
        "def show_levels():\n",
        "  # write your code here "
      ],
      "metadata": {
        "id": "YueCJNtPnndY"
      },
      "execution_count": null,
      "outputs": []
    },
    {
      "cell_type": "markdown",
      "source": [
        "## Ask the user for the game level"
      ],
      "metadata": {
        "id": "ZaIwkooboJ5p"
      }
    },
    {
      "cell_type": "code",
      "source": [
        "def game_level_choice():\n",
        "  # write your code here \n",
        "  return game_level          "
      ],
      "metadata": {
        "id": "ciabphtW4nB1"
      },
      "execution_count": null,
      "outputs": []
    },
    {
      "cell_type": "markdown",
      "source": [
        "## Set the game settings according to the game level:\n"
      ],
      "metadata": {
        "id": "OjfyXPCeoQM4"
      }
    },
    {
      "cell_type": "code",
      "source": [
        "def set_game_settings(game_level):\n",
        "  # write your code here\n",
        "  return limits, n_trials"
      ],
      "metadata": {
        "id": "NTxJ1qsJmhoG"
      },
      "execution_count": null,
      "outputs": []
    },
    {
      "cell_type": "markdown",
      "source": [
        "## Start Playing"
      ],
      "metadata": {
        "id": "97c-Ofv1o522"
      }
    },
    {
      "cell_type": "markdown",
      "source": [
        "> Hint: to generate random number in some range:\n",
        "\n",
        "`import random`\n",
        "\n",
        "`num = random.randint(lower, upper)`\n",
        "\n",
        " or\n",
        "\n",
        " `num = random.choice(range(lower, upper))`\n"
      ],
      "metadata": {
        "id": "bwXcWa3bUREY"
      }
    },
    {
      "cell_type": "code",
      "source": [
        "def start_play(limits, n_trials):\n",
        "  # write your code here\n"
      ],
      "metadata": {
        "id": "wz6TkIcTo1Jl"
      },
      "execution_count": null,
      "outputs": []
    },
    {
      "cell_type": "markdown",
      "source": [
        "## Let's Play"
      ],
      "metadata": {
        "id": "uI9u-XGV2S7P"
      }
    },
    {
      "cell_type": "code",
      "source": [
        "def play():\n",
        "  show_levels()\n",
        "  game_level = game_level_choice()\n",
        "  limits, n_trials = set_game_settings(game_level)\n",
        "  start_play(limits, n_trials)"
      ],
      "metadata": {
        "id": "4nIAPOhSpksM"
      },
      "execution_count": null,
      "outputs": []
    },
    {
      "cell_type": "code",
      "source": [
        "play()"
      ],
      "metadata": {
        "colab": {
          "base_uri": "https://localhost:8080/"
        },
        "id": "7m9ENdZp1Ffg",
        "outputId": "8cc7079e-47c8-44ec-e2a1-0a739f3f7f6f"
      },
      "execution_count": null,
      "outputs": [
        {
          "output_type": "stream",
          "name": "stdout",
          "text": [
            " Game Levels : \n",
            "  (1) Easy: \n",
            "      * Limits : [1 - 10]  \n",
            "      * No. of trials : 3\n",
            "  (2) Intermediate*: \n",
            "      * Limits : [1 - 100] \n",
            "      * No. of trials : 7\n",
            "  (3) Hard :  \n",
            "      * Limits : [1 - 1000] \n",
            "      * No. of trials : 15 \n",
            "Enter the game level :\n",
            " (1) Easy \t (2) Intermediate \t (3) Hard \t3\n",
            "I have a hidden number, guess it :   50\n",
            "No, Increase!\n",
            "I have a hidden number, guess it :   500\n",
            "No, Increase!\n",
            "I have a hidden number, guess it :   700\n",
            "No, Increase!\n",
            "I have a hidden number, guess it :   800\n",
            "No, Increase!\n",
            "I have a hidden number, guess it :   900\n",
            "No, Decrease!\n",
            "I have a hidden number, guess it :   850\n",
            "No, Decrease!\n",
            "I have a hidden number, guess it :   830\n",
            "No, Decrease!\n",
            "I have a hidden number, guess it :   820\n",
            "No, Decrease!\n",
            "I have a hidden number, guess it :   810\n",
            "No, Decrease!\n",
            "I have a hidden number, guess it :   805\n",
            "No, Decrease!\n",
            "I have a hidden number, guess it :   803\n",
            "You got it successfully in 11 trials\n"
          ]
        }
      ]
    }
  ]
}